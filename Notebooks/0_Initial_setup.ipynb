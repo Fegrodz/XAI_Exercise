{
 "cells": [
  {
   "cell_type": "markdown",
   "id": "1f211349",
   "metadata": {},
   "source": [
    "# Configuración del ambiente\n",
    "\n",
    "Este es el primer notebook, donde iremos configurando un ambiente (env) de python, para dar solución a la prueba técnica.\n",
    "\n",
    "Recordemos cual es el reto técnico a resolver:\n",
    "\n",
    "\n",
    "*Problema 2: Implementación de Técnicas de Explicabilidad Basado en “One Explanation Does Not Fit All”*\n",
    "  \n",
    "Objetivo: Aplicar técnicas de explicabilidad local y global a un modelo de clasificación de fraude crediticio. \n",
    "  \n",
    "Descripción: \n",
    "  \n",
    "1. Entrenar un modelo de clasificación binaria (Logistic Regression o RandomForest) para predecir fraude. \n",
    "2. Aplicar LIME o SHAP para generar explicaciones locales sobre predicciones individuales. \n",
    "3. Realizar un análisis de importancia global de las características usando técnicas como Feature Permutation o Decision Plots. \n",
    "  \n",
    "Requisitos: \n",
    "  \n",
    "• Generar gráficos que muestren explicaciones locales para al menos 5 predicciones individuales. \n",
    "• Crear visualizaciones que expliquen la importancia global de las características. \n",
    "  \n",
    "Entregables: \n",
    "  \n",
    "1. Código en Python que implemente las técnicas de explicabilidad. \n",
    "2. Visualizaciones de explicaciones locales y globales. \n",
    "3. Informe explicando los hallazgos y cómo mejorar el modelo basándose en las explicaciones.\n",
    "\n",
    "## ---------------------------------------------\n",
    "\n",
    "Dicho lo anterior, comencemos por instalar las bibliotecas primordiales para nuestra tarea:"
   ]
  },
  {
   "cell_type": "code",
   "execution_count": 2,
   "id": "f0a24c4b",
   "metadata": {},
   "outputs": [
    {
     "name": "stdout",
     "output_type": "stream",
     "text": [
      "Requirement already satisfied: pandas==2.2.2 in c:\\users\\death\\onedrive\\documentos\\proyectos\\xai_exercise\\credit_fraud\\lib\\site-packages (2.2.2)\n",
      "Requirement already satisfied: scikit-learn==1.4.2 in c:\\users\\death\\onedrive\\documentos\\proyectos\\xai_exercise\\credit_fraud\\lib\\site-packages (1.4.2)\n",
      "Requirement already satisfied: matplotlib==3.8.4 in c:\\users\\death\\onedrive\\documentos\\proyectos\\xai_exercise\\credit_fraud\\lib\\site-packages (3.8.4)\n",
      "Requirement already satisfied: seaborn==0.13.2 in c:\\users\\death\\onedrive\\documentos\\proyectos\\xai_exercise\\credit_fraud\\lib\\site-packages (0.13.2)\n",
      "Collecting shap==0.46.0\n",
      "  Downloading shap-0.46.0-cp311-cp311-win_amd64.whl.metadata (25 kB)\n",
      "Requirement already satisfied: lime==0.2.0.1 in c:\\users\\death\\onedrive\\documentos\\proyectos\\xai_exercise\\credit_fraud\\lib\\site-packages (0.2.0.1)\n",
      "Requirement already satisfied: numpy>=1.23.2 in c:\\users\\death\\onedrive\\documentos\\proyectos\\xai_exercise\\credit_fraud\\lib\\site-packages (from pandas==2.2.2) (2.2.6)\n",
      "Requirement already satisfied: python-dateutil>=2.8.2 in c:\\users\\death\\onedrive\\documentos\\proyectos\\xai_exercise\\credit_fraud\\lib\\site-packages (from pandas==2.2.2) (2.9.0.post0)\n",
      "Requirement already satisfied: pytz>=2020.1 in c:\\users\\death\\onedrive\\documentos\\proyectos\\xai_exercise\\credit_fraud\\lib\\site-packages (from pandas==2.2.2) (2025.2)\n",
      "Requirement already satisfied: tzdata>=2022.7 in c:\\users\\death\\onedrive\\documentos\\proyectos\\xai_exercise\\credit_fraud\\lib\\site-packages (from pandas==2.2.2) (2025.2)\n",
      "Requirement already satisfied: scipy>=1.6.0 in c:\\users\\death\\onedrive\\documentos\\proyectos\\xai_exercise\\credit_fraud\\lib\\site-packages (from scikit-learn==1.4.2) (1.16.1)\n",
      "Requirement already satisfied: joblib>=1.2.0 in c:\\users\\death\\onedrive\\documentos\\proyectos\\xai_exercise\\credit_fraud\\lib\\site-packages (from scikit-learn==1.4.2) (1.5.2)\n",
      "Requirement already satisfied: threadpoolctl>=2.0.0 in c:\\users\\death\\onedrive\\documentos\\proyectos\\xai_exercise\\credit_fraud\\lib\\site-packages (from scikit-learn==1.4.2) (3.6.0)\n",
      "Requirement already satisfied: contourpy>=1.0.1 in c:\\users\\death\\onedrive\\documentos\\proyectos\\xai_exercise\\credit_fraud\\lib\\site-packages (from matplotlib==3.8.4) (1.3.3)\n",
      "Requirement already satisfied: cycler>=0.10 in c:\\users\\death\\onedrive\\documentos\\proyectos\\xai_exercise\\credit_fraud\\lib\\site-packages (from matplotlib==3.8.4) (0.12.1)\n",
      "Requirement already satisfied: fonttools>=4.22.0 in c:\\users\\death\\onedrive\\documentos\\proyectos\\xai_exercise\\credit_fraud\\lib\\site-packages (from matplotlib==3.8.4) (4.59.2)\n",
      "Requirement already satisfied: kiwisolver>=1.3.1 in c:\\users\\death\\onedrive\\documentos\\proyectos\\xai_exercise\\credit_fraud\\lib\\site-packages (from matplotlib==3.8.4) (1.4.9)\n",
      "Requirement already satisfied: packaging>=20.0 in c:\\users\\death\\onedrive\\documentos\\proyectos\\xai_exercise\\credit_fraud\\lib\\site-packages (from matplotlib==3.8.4) (25.0)\n",
      "Requirement already satisfied: pillow>=8 in c:\\users\\death\\onedrive\\documentos\\proyectos\\xai_exercise\\credit_fraud\\lib\\site-packages (from matplotlib==3.8.4) (11.3.0)\n",
      "Requirement already satisfied: pyparsing>=2.3.1 in c:\\users\\death\\onedrive\\documentos\\proyectos\\xai_exercise\\credit_fraud\\lib\\site-packages (from matplotlib==3.8.4) (3.2.3)\n",
      "Requirement already satisfied: tqdm>=4.27.0 in c:\\users\\death\\onedrive\\documentos\\proyectos\\xai_exercise\\credit_fraud\\lib\\site-packages (from shap==0.46.0) (4.67.1)\n",
      "Collecting slicer==0.0.8 (from shap==0.46.0)\n",
      "  Downloading slicer-0.0.8-py3-none-any.whl.metadata (4.0 kB)\n",
      "Requirement already satisfied: numba in c:\\users\\death\\onedrive\\documentos\\proyectos\\xai_exercise\\credit_fraud\\lib\\site-packages (from shap==0.46.0) (0.61.2)\n",
      "Requirement already satisfied: cloudpickle in c:\\users\\death\\onedrive\\documentos\\proyectos\\xai_exercise\\credit_fraud\\lib\\site-packages (from shap==0.46.0) (3.1.1)\n",
      "Requirement already satisfied: scikit-image>=0.12 in c:\\users\\death\\onedrive\\documentos\\proyectos\\xai_exercise\\credit_fraud\\lib\\site-packages (from lime==0.2.0.1) (0.25.2)\n",
      "Requirement already satisfied: six>=1.5 in c:\\users\\death\\onedrive\\documentos\\proyectos\\xai_exercise\\credit_fraud\\lib\\site-packages (from python-dateutil>=2.8.2->pandas==2.2.2) (1.17.0)\n",
      "Requirement already satisfied: networkx>=3.0 in c:\\users\\death\\onedrive\\documentos\\proyectos\\xai_exercise\\credit_fraud\\lib\\site-packages (from scikit-image>=0.12->lime==0.2.0.1) (3.5)\n",
      "Requirement already satisfied: imageio!=2.35.0,>=2.33 in c:\\users\\death\\onedrive\\documentos\\proyectos\\xai_exercise\\credit_fraud\\lib\\site-packages (from scikit-image>=0.12->lime==0.2.0.1) (2.37.0)\n",
      "Requirement already satisfied: tifffile>=2022.8.12 in c:\\users\\death\\onedrive\\documentos\\proyectos\\xai_exercise\\credit_fraud\\lib\\site-packages (from scikit-image>=0.12->lime==0.2.0.1) (2025.8.28)\n",
      "Requirement already satisfied: lazy-loader>=0.4 in c:\\users\\death\\onedrive\\documentos\\proyectos\\xai_exercise\\credit_fraud\\lib\\site-packages (from scikit-image>=0.12->lime==0.2.0.1) (0.4)\n",
      "Requirement already satisfied: colorama in c:\\users\\death\\onedrive\\documentos\\proyectos\\xai_exercise\\credit_fraud\\lib\\site-packages (from tqdm>=4.27.0->shap==0.46.0) (0.4.6)\n",
      "Requirement already satisfied: llvmlite<0.45,>=0.44.0dev0 in c:\\users\\death\\onedrive\\documentos\\proyectos\\xai_exercise\\credit_fraud\\lib\\site-packages (from numba->shap==0.46.0) (0.44.0)\n",
      "Downloading shap-0.46.0-cp311-cp311-win_amd64.whl (456 kB)\n",
      "Downloading slicer-0.0.8-py3-none-any.whl (15 kB)\n",
      "Installing collected packages: slicer, shap\n",
      "\n",
      "  Attempting uninstall: slicer\n",
      "\n",
      "    Found existing installation: slicer 0.0.7\n",
      "\n",
      "    Uninstalling slicer-0.0.7:\n",
      "\n",
      "      Successfully uninstalled slicer-0.0.7\n",
      "\n",
      "  Attempting uninstall: shap\n",
      "\n",
      "    Found existing installation: shap 0.45.0\n",
      "\n",
      "   -------------------- ------------------- 1/2 [shap]\n",
      "    Uninstalling shap-0.45.0:\n",
      "   -------------------- ------------------- 1/2 [shap]\n",
      "      Successfully uninstalled shap-0.45.0\n",
      "   -------------------- ------------------- 1/2 [shap]\n",
      "   -------------------- ------------------- 1/2 [shap]\n",
      "   -------------------- ------------------- 1/2 [shap]\n",
      "   -------------------- ------------------- 1/2 [shap]\n",
      "   -------------------- ------------------- 1/2 [shap]\n",
      "   -------------------- ------------------- 1/2 [shap]\n",
      "   -------------------- ------------------- 1/2 [shap]\n",
      "   -------------------- ------------------- 1/2 [shap]\n",
      "   -------------------- ------------------- 1/2 [shap]\n",
      "   -------------------- ------------------- 1/2 [shap]\n",
      "   -------------------- ------------------- 1/2 [shap]\n",
      "   -------------------- ------------------- 1/2 [shap]\n",
      "   -------------------- ------------------- 1/2 [shap]\n",
      "   -------------------- ------------------- 1/2 [shap]\n",
      "   -------------------- ------------------- 1/2 [shap]\n",
      "   -------------------- ------------------- 1/2 [shap]\n",
      "   -------------------- ------------------- 1/2 [shap]\n",
      "   -------------------- ------------------- 1/2 [shap]\n",
      "   -------------------- ------------------- 1/2 [shap]\n",
      "   -------------------- ------------------- 1/2 [shap]\n",
      "   -------------------- ------------------- 1/2 [shap]\n",
      "   -------------------- ------------------- 1/2 [shap]\n",
      "   -------------------- ------------------- 1/2 [shap]\n",
      "   -------------------- ------------------- 1/2 [shap]\n",
      "   -------------------- ------------------- 1/2 [shap]\n",
      "   -------------------- ------------------- 1/2 [shap]\n",
      "   -------------------- ------------------- 1/2 [shap]\n",
      "   -------------------- ------------------- 1/2 [shap]\n",
      "   -------------------- ------------------- 1/2 [shap]\n",
      "   -------------------- ------------------- 1/2 [shap]\n",
      "   ---------------------------------------- 2/2 [shap]\n",
      "\n",
      "Successfully installed shap-0.46.0 slicer-0.0.8\n",
      "Note: you may need to restart the kernel to use updated packages.\n"
     ]
    },
    {
     "name": "stderr",
     "output_type": "stream",
     "text": [
      "  WARNING: Failed to remove contents in a temporary directory 'C:\\Users\\death\\OneDrive\\Documentos\\Proyectos\\XAI_Exercise\\credit_fraud\\Lib\\site-packages\\~hap'.\n",
      "  You can safely remove it manually.\n"
     ]
    }
   ],
   "source": [
    "%pip install pandas==2.2.2 scikit-learn==1.4.2 matplotlib==3.8.4 seaborn==0.13.2 shap==0.46.0 lime==0.2.0.1"
   ]
  },
  {
   "cell_type": "markdown",
   "id": "1810dc12",
   "metadata": {},
   "source": [
    "Las bibliotecas instaladas son:\n",
    "- *pandas* para la manipuylación de datos tabulares\n",
    "- *scikit-learn* que es nuestra biblioteca por defecto que usaremos para el entrenamiento del modelo\n",
    "- *matplotlib* para la visualización de datos, así como gráficos que nos ayudarán a dar sentido a los datos\n",
    "- *seaborn* que es un wrapper de matplotlib muy útil para dar una mejor representación a nuestros datos\n",
    "- *shap* la biblioteca que será nuestra principal aliada para ayudarnos con la parte de interpretabilidad\n",
    "- *lime* de igual forma, esta biblioteca nos puede ser de utilidad para dotar de explicabilidad a nuestros modelos"
   ]
  },
  {
   "cell_type": "code",
   "execution_count": 2,
   "id": "05285d2c",
   "metadata": {},
   "outputs": [
    {
     "name": "stdout",
     "output_type": "stream",
     "text": [
      "Requirement already satisfied: pip in c:\\users\\death\\onedrive\\documentos\\proyectos\\xai_exercise\\credit_fraud\\lib\\site-packages (24.0)\n",
      "Collecting pip\n",
      "  Downloading pip-25.2-py3-none-any.whl.metadata (4.7 kB)\n",
      "Downloading pip-25.2-py3-none-any.whl (1.8 MB)\n",
      "   ---------------------------------------- 0.0/1.8 MB ? eta -:--:--\n",
      "   ---------------------------------------- 0.0/1.8 MB ? eta -:--:--\n",
      "    --------------------------------------- 0.0/1.8 MB 495.5 kB/s eta 0:00:04\n",
      "   -- ------------------------------------- 0.1/1.8 MB 1.0 MB/s eta 0:00:02\n",
      "   -------- ------------------------------- 0.4/1.8 MB 2.2 MB/s eta 0:00:01\n",
      "   ---------------------- ----------------- 1.0/1.8 MB 4.8 MB/s eta 0:00:01\n",
      "   ---------------------------------------- 1.8/1.8 MB 7.0 MB/s eta 0:00:00\n",
      "Installing collected packages: pip\n",
      "  Attempting uninstall: pip\n",
      "    Found existing installation: pip 24.0\n",
      "    Uninstalling pip-24.0:\n",
      "      Successfully uninstalled pip-24.0\n",
      "Successfully installed pip-25.2\n",
      "Note: you may need to restart the kernel to use updated packages.\n"
     ]
    }
   ],
   "source": [
    "%pip install --upgrade pip"
   ]
  },
  {
   "cell_type": "markdown",
   "id": "9b3ecc98",
   "metadata": {},
   "source": [
    "Verificamos que nuestras bibliotecas estén instaladas correctamente:"
   ]
  },
  {
   "cell_type": "code",
   "execution_count": 4,
   "id": "5a2f7bc6",
   "metadata": {},
   "outputs": [
    {
     "name": "stdout",
     "output_type": "stream",
     "text": [
      "pandas: 2.2.2\n",
      "scikit-learn: 1.4.2\n",
      "matplotlib: 3.8.4\n",
      "seaborn: 0.13.2\n",
      "shap: 0.46.0\n",
      "lime: c:\\Users\\death\\OneDrive\\Documentos\\Proyectos\\XAI_Exercise\\credit_fraud\\Lib\\site-packages\\lime\\__init__.py\n"
     ]
    }
   ],
   "source": [
    "import pandas as pd\n",
    "import sklearn\n",
    "import matplotlib\n",
    "import seaborn as sns\n",
    "import shap\n",
    "import lime\n",
    "\n",
    "print(\"pandas:\", pd.__version__)\n",
    "print(\"scikit-learn:\", sklearn.__version__)\n",
    "print(\"matplotlib:\", matplotlib.__version__)\n",
    "print(\"seaborn:\", sns.__version__)\n",
    "print(\"shap:\", shap.__version__)\n",
    "print(\"lime:\", lime.__file__)"
   ]
  },
  {
   "cell_type": "markdown",
   "id": "6f86e829",
   "metadata": {},
   "source": [
    "Finalmente, creamos un archivo de dependencias que nos puede ser de utilidad para reproducir este mismo ambiente con sus bibliotecas correspondientes:"
   ]
  },
  {
   "cell_type": "code",
   "execution_count": 2,
   "id": "f2cbdfcd",
   "metadata": {},
   "outputs": [
    {
     "name": "stdout",
     "output_type": "stream",
     "text": [
      "Note: you may need to restart the kernel to use updated packages.\n"
     ]
    }
   ],
   "source": [
    "%pip freeze > ../requirements.txt"
   ]
  },
  {
   "cell_type": "code",
   "execution_count": null,
   "id": "0169c956",
   "metadata": {},
   "outputs": [],
   "source": []
  }
 ],
 "metadata": {
  "kernelspec": {
   "display_name": "credit_fraud",
   "language": "python",
   "name": "python3"
  },
  "language_info": {
   "codemirror_mode": {
    "name": "ipython",
    "version": 3
   },
   "file_extension": ".py",
   "mimetype": "text/x-python",
   "name": "python",
   "nbconvert_exporter": "python",
   "pygments_lexer": "ipython3",
   "version": "3.11.9"
  }
 },
 "nbformat": 4,
 "nbformat_minor": 5
}
