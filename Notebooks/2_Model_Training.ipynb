{
 "cells": [
  {
   "cell_type": "markdown",
   "id": "63bc36e2",
   "metadata": {},
   "source": [
    "# Fase de entrenamiento del modelo\n",
    "\n",
    "Para este ejercicio, y dado que buscamos enfocarnos en la parte de explicabilidad, usaremos un Clasificador Random Forest, para el cual las técnicas de SHAP son más efectivas a diferencia de una regresión logística que en esencia es un modelo altamente explicable por naturaleza."
   ]
  },
  {
   "cell_type": "markdown",
   "id": "924a7591",
   "metadata": {},
   "source": [
    "# ====================================================================\n",
    "# LIBRERÍAS\n",
    "# ====================================================================\n",
    "# Se importan las librerías necesarias para el modelado y la evaluación.\n",
    "import pandas as pd\n",
    "import pickle\n",
    "import joblib  # Usaremos joblib para guardar el modelo, es más eficiente para objetos de sklearn.\n",
    "from sklearn.ensemble import RandomForestClassifier\n",
    "from sklearn.metrics import classification_report, confusion_matrix, ConfusionMatrixDisplay\n",
    "import matplotlib.pyplot as plt"
   ]
  }
 ],
 "metadata": {
  "kernelspec": {
   "display_name": "credit_fraud",
   "language": "python",
   "name": "python3"
  },
  "language_info": {
   "name": "python",
   "version": "3.11.9"
  }
 },
 "nbformat": 4,
 "nbformat_minor": 5
}
