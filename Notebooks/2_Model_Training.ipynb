{
 "cells": [
  {
   "cell_type": "markdown",
   "id": "63bc36e2",
   "metadata": {},
   "source": [
    "# Fase de entrenamiento del modelo\n",
    "\n",
    "Para este ejercicio, y dado que buscamos enfocarnos en la parte de explicabilidad, usaremos un clasificador Random Forest, para el cual las técnicas de SHAP son más efectivas a diferencia de una regresión logística que en esencia es un modelo altamente explicable por naturaleza.\n",
    "\n",
    "Dicho lo anterior, a lo largo de este notebook, procederemos a cargar los datos pre-procesados, entrenar un modelo RandomForestClassifier y realizar una evaluación inicial de su rendimiento en el conjunto de prueba, pasos estandar para continuar con la asignación."
   ]
  },
  {
   "cell_type": "code",
   "execution_count": null,
   "id": "92709a4c",
   "metadata": {},
   "outputs": [],
   "source": [
    "# ====================================================================\n",
    "# LIBRERÍAS\n",
    "# ====================================================================\n",
    "# Se importan las librerías necesarias para el modelado y la evaluación.\n",
    "import pandas as pd\n",
    "import pickle, os\n",
    "from sklearn.ensemble import RandomForestClassifier\n",
    "from sklearn.metrics import (\n",
    "    classification_report, \n",
    "    confusion_matrix, \n",
    "    precision_recall_curve, \n",
    "    auc,\n",
    "    roc_auc_score\n",
    ")\n",
    "import matplotlib.pyplot as plt\n",
    "import seaborn as sns\n",
    "\n",
    "# Configuraciones para una mejor visualización.\n",
    "sns.set_style('whitegrid')\n",
    "%matplotlib inline"
   ]
  },
  {
   "cell_type": "markdown",
   "id": "924a7591",
   "metadata": {},
   "source": [
    "# Carga de datos procesados y divididos\n",
    "\n",
    "Realizamos acá la carga de datos para iniciar posteriormente con el entrenamiento del modelo mencionado:"
   ]
  },
  {
   "cell_type": "code",
   "execution_count": 3,
   "id": "82c75d59",
   "metadata": {},
   "outputs": [
    {
     "name": "stdout",
     "output_type": "stream",
     "text": [
      "Datos de entrenamiento y prueba cargados exitosamente.\n",
      "Tamaño de X_train: (227845, 29)\n",
      "Tamaño de X_test: (56962, 29)\n",
      "Tamaño de y_train: (227845,)\n",
      "Tamaño de y_test: (56962,)\n"
     ]
    }
   ],
   "source": [
    "# ====================================================================\n",
    "# CARGA DE DATOS PROCESADOS\n",
    "# ====================================================================\n",
    "# Se cargan los conjuntos de datos previamente divididos y guardados en formato pickle.\n",
    "\n",
    "DATA_PATH = \"../Source/processed_data/split_data.pkl\"\n",
    "\n",
    "with open(DATA_PATH, 'rb') as file:\n",
    "    processed_data = pickle.load(file)\n",
    "\n",
    "X_train = processed_data[\"X_train\"]\n",
    "X_test = processed_data[\"X_test\"]\n",
    "y_train = processed_data[\"y_train\"]\n",
    "y_test = processed_data[\"y_test\"]\n",
    "\n",
    "print(\"Datos de entrenamiento y prueba cargados exitosamente.\")\n",
    "print(f\"Tamaño de X_train: {X_train.shape}\")\n",
    "print(f\"Tamaño de X_test: {X_test.shape}\")\n",
    "print(f\"Tamaño de y_train: {y_train.shape}\")\n",
    "print(f\"Tamaño de y_test: {y_test.shape}\")"
   ]
  },
  {
   "cell_type": "markdown",
   "id": "5b98a874",
   "metadata": {},
   "source": [
    "## Entrenamiento del Modelo de Clasificación\n",
    "\n",
    "En referencia al modelo RandomForestClassifier, éste se caracteriza por su capacidad para manejar relaciones no lineales y su robustez.\n",
    "Un parámetro clave en este paso es class_weight='balanced'. Esta es una técnica simple y efectiva para mitigar el fuerte desbalance de clases, instruyendo al modelo a \"prestar más atención\" a la clase minoritaria (fraude) durante el entrenamiento.\n",
    "\n",
    "De esta forma, no profundizamos tanto en los parámetros del modelo ni en la forma del entrenamiento, por lo cual esto podría considerarse como una forma ingenua de proceder, pero es una desición conciente dado que no buscamos el mejor modelo para este caso, sino interpretar la forma en que el modelo clasifica."
   ]
  },
  {
   "cell_type": "code",
   "execution_count": 4,
   "id": "f64a024a",
   "metadata": {},
   "outputs": [
    {
     "name": "stdout",
     "output_type": "stream",
     "text": [
      "Entrenando el modelo RandomForestClassifier...\n",
      "Entrenamiento completado.\n"
     ]
    }
   ],
   "source": [
    "# ====================================================================\n",
    "# ENTRENAMIENTO DEL MODELO\n",
    "# ====================================================================\n",
    "# Se instancia y entrena el modelo RandomForestClassifier.\n",
    "\n",
    "# 1. Instanciar el modelo.\n",
    "#    - n_estimators=100: Número de árboles en el bosque (un buen punto de partida).\n",
    "#    - class_weight='balanced': Parámetro crucial para manejar el desbalance de clases.\n",
    "#    - random_state=42: Para garantizar la reproducibilidad de los resultados.\n",
    "#    - n_jobs=-1: Utiliza todos los procesadores disponibles para acelerar el entrenamiento.\n",
    "model = RandomForestClassifier(\n",
    "    n_estimators=100,\n",
    "    class_weight='balanced',\n",
    "    random_state=42,\n",
    "    n_jobs=-1 \n",
    ")\n",
    "\n",
    "# 2. Entrenar el modelo con los datos de entrenamiento.\n",
    "print(\"Entrenando el modelo RandomForestClassifier...\")\n",
    "model.fit(X_train, y_train.values.ravel()) # .ravel() para asegurar el formato correcto de y_train\n",
    "print(\"Entrenamiento completado.\")"
   ]
  },
  {
   "cell_type": "markdown",
   "id": "f8c51ce8",
   "metadata": {},
   "source": [
    "## Evaluación de desempeño del modelo\n",
    "\n",
    "Ahora evaluamos el modelo entrenado en los datos que nunca ha visto (X_test, y_test). Esto nos da una estimación realista de su rendimiento.\n",
    "\n",
    "La evaluación se centrará en métricas que son significativas para problemas con datos desbalanceados.\n",
    "\n",
    "- Matriz de Confusión: Para visualizar directamente los Falsos Positivos y Falsos Negativos.\n",
    "\n",
    "- Reporte de Clasificación: Para ver Precision, Recall y F1-score de la clase minoritaria.\n",
    "\n",
    "- Curva Precision-Recall y AUPRC: La métrica principal, tal y como se recomienda en la documentación oficial del dataset en Kaggle."
   ]
  },
  {
   "cell_type": "code",
   "execution_count": 8,
   "id": "3fdf83d0",
   "metadata": {},
   "outputs": [
    {
     "data": {
      "text/plain": [
       "array([0, 0, 0, ..., 0, 0, 0], shape=(56962,))"
      ]
     },
     "execution_count": 8,
     "metadata": {},
     "output_type": "execute_result"
    }
   ],
   "source": [
    "y_pred"
   ]
  },
  {
   "cell_type": "code",
   "execution_count": 14,
   "id": "6bb32bdc",
   "metadata": {},
   "outputs": [
    {
     "data": {
      "text/plain": [
       "array([0, 0, 0, ..., 0, 0, 0], shape=(56962,))"
      ]
     },
     "execution_count": 14,
     "metadata": {},
     "output_type": "execute_result"
    }
   ],
   "source": [
    "y_test.values"
   ]
  },
  {
   "cell_type": "code",
   "execution_count": 16,
   "id": "9d75f89f",
   "metadata": {},
   "outputs": [
    {
     "name": "stdout",
     "output_type": "stream",
     "text": [
      "========================= Reporte de Clasificación =========================\n",
      "               precision    recall  f1-score   support\n",
      "\n",
      "No Fraude (0)       1.00      1.00      1.00     56864\n",
      "   Fraude (1)       0.96      0.76      0.85        98\n",
      "\n",
      "     accuracy                           1.00     56962\n",
      "    macro avg       0.98      0.88      0.92     56962\n",
      " weighted avg       1.00      1.00      1.00     56962\n",
      "\n",
      "=========================== Matriz de Confusión ============================\n"
     ]
    },
    {
     "data": {
      "image/png": "[encoded data removed]",
      "text/plain": [
       "<Figure size 800x600 with 2 Axes>"
      ]
     },
     "metadata": {},
     "output_type": "display_data"
    }
   ],
   "source": [
    "# ====================================================================\n",
    "# PREDICCIONES Y MÉTRICAS BÁSICAS\n",
    "# ====================================================================\n",
    "# Se realizan predicciones sobre el conjunto de prueba.\n",
    "y_pred = model.predict(X_test)\n",
    "y_pred_proba = model.predict_proba(X_test)[:, 1] # Probabilidades para la clase positiva (fraude)\n",
    "\n",
    "# 1. Reporte de Clasificación\n",
    "print(\"=\"*25, \"Reporte de Clasificación\", \"=\"*25)\n",
    "print(classification_report(y_test.values, y_pred, target_names=['No Fraude (0)', 'Fraude (1)']))\n",
    "# Nota: Observar el alto Recall para la clase 'Fraude', gracias a class_weight.\n",
    "\n",
    "# 2. Matriz de Confusión\n",
    "print(\"=\"*27, \"Matriz de Confusión\", \"=\"*28)\n",
    "cm = confusion_matrix(y_test.values, y_pred)\n",
    "plt.figure(figsize=(8, 6))\n",
    "sns.heatmap(cm, annot=True, fmt='d', cmap='Blues', \n",
    "            xticklabels=['No Fraude', 'Fraude'], \n",
    "            yticklabels=['No Fraude', 'Fraude'])\n",
    "plt.title('Matriz de Confusión')\n",
    "plt.ylabel('Clase Real')\n",
    "plt.xlabel('Clase Predicha')\n",
    "plt.show()"
   ]
  },
  {
   "cell_type": "markdown",
   "id": "96e3b729",
   "metadata": {},
   "source": [
    "## Evaluación Principal: Curva Precision-Recall (AUPRC)\n",
    "\n",
    "Esta curva es la herramienta más informativa para evaluar un modelo de fraude. Muestra el trade-off entre la Precisión (¿qué proporción de las alertas de fraude son reales?) y el Recall (¿qué proporción de los fraudes reales logramos capturar?) a diferentes umbrales de probabilidad. El área bajo esta curva (AUPRC) nos da un puntaje único que resume el rendimiento del modelo."
   ]
  },
  {
   "cell_type": "code",
   "execution_count": 18,
   "id": "0e27c42d",
   "metadata": {},
   "outputs": [
    {
     "data": {
      "text/plain": [
       "array([0., 0., 0., ..., 0., 0., 0.], shape=(56962,))"
      ]
     },
     "execution_count": 18,
     "metadata": {},
     "output_type": "execute_result"
    }
   ],
   "source": [
    "y_pred_proba"
   ]
  },
  {
   "cell_type": "code",
   "execution_count": 19,
   "id": "a0731c91",
   "metadata": {},
   "outputs": [
    {
     "data": {
      "text/plain": [
       "263020    0\n",
       "11378     0\n",
       "147283    0\n",
       "219439    0\n",
       "36939     0\n",
       "         ..\n",
       "54199     0\n",
       "184616    0\n",
       "274532    0\n",
       "269819    0\n",
       "64170     0\n",
       "Name: Class, Length: 56962, dtype: int64"
      ]
     },
     "execution_count": 19,
     "metadata": {},
     "output_type": "execute_result"
    }
   ],
   "source": [
    "y_test"
   ]
  },
  {
   "cell_type": "code",
   "execution_count": 20,
   "id": "f0a3e0cc",
   "metadata": {},
   "outputs": [
    {
     "name": "stdout",
     "output_type": "stream",
     "text": [
      "Área Bajo la Curva Precision-Recall (AUPRC): 0.8573\n",
      "Área Bajo la Curva ROC (AUC-ROC): 0.9580\n",
      "--------------------------------------------------\n",
      "Un AUPRC alto indica que el modelo puede alcanzar un alto Recall (capturar muchos fraudes) mientras mantiene una alta Precisión (sin generar demasiadas falsas alarmas).\n"
     ]
    },
    {
     "data": {
      "image/png": "[encoded data removed]",
      "text/plain": [
       "<Figure size 1000x700 with 1 Axes>"
      ]
     },
     "metadata": {},
     "output_type": "display_data"
    }
   ],
   "source": [
    "# ====================================================================\n",
    "# CÁLCULO Y VISUALIZACIÓN DE LA CURVA PRECISION-RECALL\n",
    "# ====================================================================\n",
    "\n",
    "# 1. Calcular los puntos de la curva.\n",
    "precision, recall, thresholds = precision_recall_curve(y_test.values, y_pred_proba)\n",
    "\n",
    "# 2. Calcular el Área Bajo la Curva (AUPRC).\n",
    "auprc = auc(recall, precision)\n",
    "\n",
    "# Adicionalmente, calculamos el AUC-ROC como referencia.\n",
    "roc_auc = roc_auc_score(y_test.values, y_pred_proba)\n",
    "\n",
    "print(f\"Área Bajo la Curva Precision-Recall (AUPRC): {auprc:.4f}\")\n",
    "print(f\"Área Bajo la Curva ROC (AUC-ROC): {roc_auc:.4f}\")\n",
    "print(\"-\" * 50)\n",
    "print(\"Un AUPRC alto indica que el modelo puede alcanzar un alto Recall (capturar muchos fraudes) mientras mantiene una alta Precisión (sin generar demasiadas falsas alarmas).\")\n",
    "\n",
    "# 3. Visualizar la curva.\n",
    "plt.figure(figsize=(10, 7))\n",
    "plt.plot(recall, precision, color='b', label=f'Curva PR (AUPRC = {auprc:.4f})')\n",
    "plt.title('Curva Precision-Recall')\n",
    "plt.xlabel('Recall (Sensibilidad)')\n",
    "plt.ylabel('Precision')\n",
    "plt.legend(loc='lower left')\n",
    "plt.grid(True)\n",
    "plt.show()"
   ]
  },
  {
   "cell_type": "markdown",
   "id": "2f1e20e4",
   "metadata": {},
   "source": [
    "Con lo visto hasta el momento, podemos concluir que el modelo entrenado tiene un desempeño inicial bueno, pero que tiene aún un considerable margen para la mejora, dado que aún no logra capturar la mayoría de los casos marcados como fraude en el conjunto de prueba.\n",
    "\n",
    "# Guardado del Modelo Entrenado\n",
    "\n",
    "Finalmente, guardamos el modelo entrenado para que los siguientes cuadernos (3_Global_Explanations.ipynb y 4_Local_Explanations.ipynb) puedan cargarlo y aplicar las técnicas de explicabilidad."
   ]
  },
  {
   "cell_type": "code",
   "execution_count": null,
   "id": "b4d859e2",
   "metadata": {},
   "outputs": [
    {
     "name": "stdout",
     "output_type": "stream",
     "text": [
      "Modelo guardado exitosamente en: ../Source/models/fraud_classifier.pkl\n"
     ]
    }
   ],
   "source": [
    "# ====================================================================\n",
    "# GUARDADO DEL MODELO ENTRENADO\n",
    "# ====================================================================\n",
    "# Se guarda el objeto del modelo en un archivo pickle.\n",
    "\n",
    "MODEL_SAVE_PATH = \"../Source/models/fraud_classifier.pkl\"\n",
    "os.makedirs('../Source/models', exist_ok=True)\n",
    "\n",
    "with open(MODEL_SAVE_PATH, 'wb') as file:\n",
    "    pickle.dump(model, file)\n",
    "\n",
    "print(f\"Modelo guardado exitosamente en: {MODEL_SAVE_PATH}\")"
   ]
  },
  {
   "cell_type": "markdown",
   "id": "c0f4ae0f",
   "metadata": {},
   "source": []
  }
 ],
 "metadata": {
  "kernelspec": {
   "display_name": "credit_fraud",
   "language": "python",
   "name": "python3"
  },
  "language_info": {
   "codemirror_mode": {
    "name": "ipython",
    "version": 3
   },
   "file_extension": ".py",
   "mimetype": "text/x-python",
   "name": "python",
   "nbconvert_exporter": "python",
   "pygments_lexer": "ipython3",
   "version": "3.11.9"
  }
 },
 "nbformat": 4,
 "nbformat_minor": 5
}
