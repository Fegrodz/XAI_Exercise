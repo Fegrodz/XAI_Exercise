{
 "cells": [
  {
   "cell_type": "markdown",
   "id": "0ec9bece",
   "metadata": {},
   "source": [
    "# Preparación de los datos previo al entrenamiento\n",
    "\n",
    "En este notebook se muestra un proceso EDA de manera sucinta para familiarizarnos con los datos que se usarán para el entrenamiento. Para dicho fin, iniciaremos con la lógica detrás de la elección del conjunto de datos en cuestión.\n",
    "\n",
    "Elegimos el dataset  Kaggle: Credit Card Fraud Detection dataset.\n",
    "La razón detrás de esta decisión se basa principalmente en los siguientes puntos:\n",
    "\n",
    "1. Focus on the Core Task: The data is pre-processed and clean. This is a 1-2 day assignment. You must spend your time on modeling and XAI, not on data cleaning. Using this dataset signals that you understand how to prioritize.\n",
    "\n",
    "2. Addresses a Key Challenge (Imbalance): The dataset is highly imbalanced. This is not a bug; it's a feature. It forces you to address a critical, real-world problem in fraud detection and discuss it in your report.\n",
    "\n",
    "3. Perfect for the Chosen Models: A RandomForestClassifier will perform very well on this tabular, anonymized data.\n",
    "Creates a Realistic XAI Challenge: The anonymized features (V1, V2...) force you to separate the technical explanation from the business narrative. This is a senior-level concept. You will perform the technical explanation and then, in your report, you will discuss how you would translate these findings into business terms if you knew what V14 or V17 actually represented. This shows immense maturity."
   ]
  },
  {
   "cell_type": "markdown",
   "id": "cded5927",
   "metadata": {},
   "source": []
  }
 ],
 "metadata": {
  "language_info": {
   "name": "python"
  }
 },
 "nbformat": 4,
 "nbformat_minor": 5
}
